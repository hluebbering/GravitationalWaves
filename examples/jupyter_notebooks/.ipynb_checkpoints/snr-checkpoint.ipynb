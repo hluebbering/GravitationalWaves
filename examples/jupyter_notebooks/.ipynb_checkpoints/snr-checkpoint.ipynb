{
 "cells": [
  {
   "cell_type": "code",
   "execution_count": null,
   "id": "ad0798bf",
   "metadata": {},
   "outputs": [],
   "source": [
    "snr_circ_evolving\n",
    "snr_ecc_evolving\n",
    "snr_circ_stationary\n",
    "snr_ecc_stationary"
   ]
  }
 ],
 "metadata": {
  "kernelspec": {
   "display_name": "Python 3",
   "language": "python",
   "name": "python3"
  },
  "language_info": {
   "codemirror_mode": {
    "name": "ipython",
    "version": 3
   },
   "file_extension": ".py",
   "mimetype": "text/x-python",
   "name": "python",
   "nbconvert_exporter": "python",
   "pygments_lexer": "ipython3",
   "version": "3.8.8"
  }
 },
 "nbformat": 4,
 "nbformat_minor": 5
}
