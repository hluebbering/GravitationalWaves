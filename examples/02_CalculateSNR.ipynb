{
 "cells": [
  {
   "cell_type": "markdown",
   "id": "50eb0d70",
   "metadata": {},
   "source": [
    "# Signal-to-Noise Ratio (SNR)\n",
    "\n",
    "The snr module contains four functions for calculating the SNR depending on whether a binary is stationary/evolving and circular/eccentric using various approximations. All you have to do is set the gw_lum_tol and stat_tol when instantiating the class and then call legwork.source.Source.get_snr().\n",
    "\n",
    "This splits the sources into (up to) 4 subsets and calculates their SNRs before recollecting them and storing the result in source.snr.\n",
    "\n",
    "Let’s try this out. Note that we run with verbose=True here so that you can see the size of subpopulation."
   ]
  },
  {
   "cell_type": "markdown",
   "id": "17face98",
   "metadata": {},
   "source": [
    "# Demo - Basic SNR Calculation\n",
    "\n",
    "This demo shows how to compute the SNR of a single binary system, as well as a collection of systems."
   ]
  },
  {
   "cell_type": "code",
   "execution_count": 2,
   "id": "a4f6da59",
   "metadata": {},
   "outputs": [],
   "source": [
    "import GravitationalWaves as gw\n",
    "import astropy.units as u"
   ]
  },
  {
   "cell_type": "markdown",
   "id": "ce6a15bd",
   "metadata": {},
   "source": [
    "\n",
    "## Single source SNR calculation\n",
    "\n",
    "First, we calculate the signal-to-noise ratio for a single stellar-mass binary system. Let’s create a toy source and calculate its SNR (for a default 4-year LISA mission)."
   ]
  },
  {
   "cell_type": "code",
   "execution_count": 4,
   "id": "08587da0",
   "metadata": {},
   "outputs": [
    {
     "name": "stdout",
     "output_type": "stream",
     "text": [
      "Calculating SNR for 1 sources\n",
      "\t0 sources have already merged\n",
      "\t1 sources are stationary\n",
      "\t\t1 sources are stationary and eccentric\n"
     ]
    },
    {
     "data": {
      "text/plain": [
       "array([4.49425701])"
      ]
     },
     "execution_count": 4,
     "metadata": {},
     "output_type": "execute_result"
    }
   ],
   "source": [
    "source = gw.source.Source(m_1 = 10 * u.Msun,\n",
    "                          m_2 = 10 * u.Msun,\n",
    "                          ecc = 0.2,\n",
    "                          f_orb = 1e-4 * u.Hz,\n",
    "                          dist = 8 * u.kpc,\n",
    "                          interpolate_g = False)\n",
    "source.get_snr(verbose = True)"
   ]
  },
  {
   "cell_type": "markdown",
   "id": "571a0a25",
   "metadata": {},
   "source": [
    "The package checked whether the source is eccentric/circular and evolving/stationary and picked the fastest possible way to calculate the SNR accurately.\n",
    "\n"
   ]
  },
  {
   "cell_type": "markdown",
   "id": "71ab179e",
   "metadata": {},
   "source": [
    "## Population of sources SNR calculation\n",
    "\n",
    "If we want to know the SNR of three (or any number of) sources then you can instead provide arrays for each of the arguments and execute the code in exactly the same way."
   ]
  },
  {
   "cell_type": "code",
   "execution_count": 11,
   "id": "2e947280",
   "metadata": {},
   "outputs": [
    {
     "name": "stdout",
     "output_type": "stream",
     "text": [
      "Calculating SNR for 3 sources\n",
      "\t0 sources have already merged\n",
      "\t3 sources are stationary\n",
      "\t\t3 sources are stationary and eccentric\n"
     ]
    },
    {
     "data": {
      "text/plain": [
       "array([2.47, 4.49, 7.85])"
      ]
     },
     "execution_count": 11,
     "metadata": {},
     "output_type": "execute_result"
    }
   ],
   "source": [
    "# supply arrays that are identical to earlier example but different primary masses\n",
    "sources = gw.source.Source(m_1=[5, 10, 20] * u.Msun,\n",
    "                           m_2=[10, 10, 10] * u.Msun,\n",
    "                           ecc=[0.2, 0.2, 0.2],\n",
    "                           f_orb=[1e-4, 1e-4, 1e-4] * u.Hz,\n",
    "                           dist=[8, 8, 8] * u.kpc,\n",
    "                           interpolate_g=False)\n",
    "\n",
    "sources.get_snr(verbose = True).round(2)"
   ]
  },
  {
   "cell_type": "markdown",
   "id": "b7b467b3",
   "metadata": {},
   "source": [
    "----------------------------------------\n",
    "\n",
    "We can also adjust the length of the LISA mission to see how this affects the SNR.\n",
    "\n"
   ]
  },
  {
   "cell_type": "code",
   "execution_count": 1,
   "id": "77262e78",
   "metadata": {},
   "outputs": [
    {
     "ename": "ModuleNotFoundError",
     "evalue": "No module named 'GravitationalWaves'",
     "output_type": "error",
     "traceback": [
      "\u001b[1;31m---------------------------------------------------------------------------\u001b[0m",
      "\u001b[1;31mModuleNotFoundError\u001b[0m                       Traceback (most recent call last)",
      "\u001b[1;32m~\\AppData\\Local\\Temp/ipykernel_12436/2458601315.py\u001b[0m in \u001b[0;36m<module>\u001b[1;34m\u001b[0m\n\u001b[1;32m----> 1\u001b[1;33m \u001b[1;32mfrom\u001b[0m \u001b[0mGravitationalWaves\u001b[0m \u001b[1;32mimport\u001b[0m \u001b[0msource\u001b[0m\u001b[1;33m,\u001b[0m \u001b[0mutils\u001b[0m\u001b[1;33m,\u001b[0m \u001b[0mvisualization\u001b[0m\u001b[1;33m\u001b[0m\u001b[1;33m\u001b[0m\u001b[0m\n\u001b[0m\u001b[0;32m      2\u001b[0m \u001b[1;32mimport\u001b[0m \u001b[0mnumpy\u001b[0m \u001b[1;32mas\u001b[0m \u001b[0mnp\u001b[0m\u001b[1;33m\u001b[0m\u001b[1;33m\u001b[0m\u001b[0m\n\u001b[0;32m      3\u001b[0m \u001b[1;32mimport\u001b[0m \u001b[0mastropy\u001b[0m\u001b[1;33m.\u001b[0m\u001b[0munits\u001b[0m \u001b[1;32mas\u001b[0m \u001b[0mu\u001b[0m\u001b[1;33m\u001b[0m\u001b[1;33m\u001b[0m\u001b[0m\n\u001b[0;32m      4\u001b[0m \u001b[1;32mimport\u001b[0m \u001b[0mmatplotlib\u001b[0m\u001b[1;33m.\u001b[0m\u001b[0mpyplot\u001b[0m \u001b[1;32mas\u001b[0m \u001b[0mplt\u001b[0m\u001b[1;33m\u001b[0m\u001b[1;33m\u001b[0m\u001b[0m\n\u001b[0;32m      5\u001b[0m \u001b[1;32mfrom\u001b[0m \u001b[0mastropy\u001b[0m\u001b[1;33m.\u001b[0m\u001b[0mcoordinates\u001b[0m \u001b[1;32mimport\u001b[0m \u001b[0mSkyCoord\u001b[0m\u001b[1;33m\u001b[0m\u001b[1;33m\u001b[0m\u001b[0m\n",
      "\u001b[1;31mModuleNotFoundError\u001b[0m: No module named 'GravitationalWaves'"
     ]
    }
   ],
   "source": [
    "from GravitationalWaves import source, utils, visualization\n",
    "import numpy as np\n",
    "import astropy.units as u\n",
    "import matplotlib.pyplot as plt\n",
    "from astropy.coordinates import SkyCoord"
   ]
  },
  {
   "cell_type": "code",
   "execution_count": 29,
   "id": "7ae0a368",
   "metadata": {},
   "outputs": [],
   "source": [
    "# create a random collection of sources\n",
    "n_values = 1500\n",
    "m_1 = np.random.uniform(0, 10, n_values) * u.Msun\n",
    "m_2 = np.random.uniform(0, 10, n_values) * u.Msun\n",
    "dist = np.random.normal(8, 1.5, n_values) * u.kpc\n",
    "f_orb = 10**(-5 * np.random.power(3, n_values)) * u.Hz\n",
    "ecc = 1 - np.random.power(3, n_values)"
   ]
  },
  {
   "cell_type": "code",
   "execution_count": 24,
   "id": "52be46d4",
   "metadata": {},
   "outputs": [],
   "source": [
    "sources = source.Source(m_1=m_1, m_2=m_2, ecc=ecc, dist=dist, f_orb=f_orb, gw_lum_tol=0.05, stat_tol=1e-2,\n",
    "                        interpolate_g=True, interpolate_sc=True,\n",
    "                        sc_params={\n",
    "                            \"instrument\": \"LISA\",\n",
    "                            \"custom_psd\": None,\n",
    "                            \"t_obs\": 4 * u.yr,\n",
    "                            \"L\": 2.5e9 * u.m,\n",
    "                            \"approximate_R\": False,\n",
    "                            \"confusion_noise\": 'robson19'\n",
    "                        })"
   ]
  },
  {
   "cell_type": "code",
   "execution_count": 32,
   "id": "7556981d",
   "metadata": {},
   "outputs": [
    {
     "name": "stdout",
     "output_type": "stream",
     "text": [
      "Calculating SNR for 1500 sources\n",
      "\t0 sources have already merged\n",
      "\t1347 sources are stationary\n",
      "\t\t263 sources are stationary and circular\n",
      "\t\t1084 sources are stationary and eccentric\n",
      "\t153 sources are evolving\n",
      "\t\t26 sources are evolving and circular\n",
      "\t\t127 sources are evolving and eccentric\n",
      "Calculating SNR for 1500 sources\n",
      "\t0 sources have already merged\n",
      "\t1347 sources are stationary\n",
      "\t\t263 sources are stationary and circular\n",
      "\t\t1084 sources are stationary and eccentric\n",
      "\t153 sources are evolving\n",
      "\t\t26 sources are evolving and circular\n",
      "\t\t127 sources are evolving and eccentric\n"
     ]
    }
   ],
   "source": [
    "snr_4 = sources.get_snr(verbose=True)\n",
    "snr_10 = sources.get_snr(t_obs=10 * u.yr, verbose=True)"
   ]
  },
  {
   "cell_type": "markdown",
   "id": "4a86914a",
   "metadata": {},
   "source": [
    "Note that you can see that the number of stationary binaries has decreased slightly since some binaries may just be on the cusp of no longer being stationary and extending the time means they change frequency enough to be labelled as evolving. It could be interesting to do this to see how the number of detectable binaries changes.\n",
    "\n"
   ]
  },
  {
   "cell_type": "code",
   "execution_count": 27,
   "id": "d814412a",
   "metadata": {},
   "outputs": [
    {
     "name": "stdout",
     "output_type": "stream",
     "text": [
      "626 binaries are detectable over 4 years\n",
      "Whilst extending to a 10 year mission gives 661\n"
     ]
    }
   ],
   "source": [
    "n_detect_4 = len(snr_4[snr_4 > 7])\n",
    "n_detect_10 = len(snr_10[snr_10 > 7])\n",
    "print(\"{} binaries are detectable over 4 years\".format(n_detect_4))\n",
    "print(\"Whilst extending to a 10 year mission gives {}\".format(n_detect_10))"
   ]
  }
 ],
 "metadata": {
  "kernelspec": {
   "display_name": "Python 3",
   "language": "python",
   "name": "python3"
  },
  "language_info": {
   "codemirror_mode": {
    "name": "ipython",
    "version": 3
   },
   "file_extension": ".py",
   "mimetype": "text/x-python",
   "name": "python",
   "nbconvert_exporter": "python",
   "pygments_lexer": "ipython3",
   "version": "3.9.5"
  }
 },
 "nbformat": 4,
 "nbformat_minor": 5
}
