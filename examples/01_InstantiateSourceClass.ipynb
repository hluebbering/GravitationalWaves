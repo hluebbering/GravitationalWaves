{
 "cells": [
  {
   "cell_type": "markdown",
   "id": "17c0553e",
   "metadata": {},
   "source": [
    "# Instantiate a Source Class\n",
    "\n",
    "First, we import the necessary packages as follows.\n",
    "\n"
   ]
  },
  {
   "cell_type": "code",
   "execution_count": 3,
   "id": "77262e78",
   "metadata": {},
   "outputs": [],
   "source": [
    "from GravitationalWaves import utils, visualization, source\n",
    "import numpy as np\n",
    "import astropy.units as u\n",
    "import matplotlib.pyplot as plt\n",
    "from astropy.coordinates import SkyCoord"
   ]
  },
  {
   "cell_type": "markdown",
   "id": "11b620ef",
   "metadata": {},
   "source": [
    "Now we can start by creating a random collection of possible LISA sources.\n"
   ]
  },
  {
   "cell_type": "code",
   "execution_count": 4,
   "id": "327e3717",
   "metadata": {},
   "outputs": [],
   "source": [
    "# create a random collection of sources\n",
    "n_values = 1500\n",
    "m_1 = np.random.uniform(0, 10, n_values) * u.Msun\n",
    "m_2 = np.random.uniform(0, 10, n_values) * u.Msun\n",
    "dist = np.random.normal(8, 1.5, n_values) * u.kpc\n",
    "f_orb = 10**(-5 * np.random.power(3, n_values)) * u.Hz\n",
    "ecc = 1 - np.random.power(3, n_values)"
   ]
  },
  {
   "cell_type": "markdown",
   "id": "b6d3718a",
   "metadata": {},
   "source": [
    "We can instantiate a Source class using these random sources as follows:\n",
    "\n"
   ]
  },
  {
   "cell_type": "code",
   "execution_count": 10,
   "id": "aae0b8af",
   "metadata": {},
   "outputs": [],
   "source": [
    "sources = source.Source(m_1=m_1, m_2=m_2, ecc=ecc, dist=dist, f_orb=f_orb, gw_lum_tol=0.05, stat_tol=1e-2,\n",
    "                        interpolate_g=True, interpolate_sc=True,\n",
    "                        sc_params={\n",
    "                            \"instrument\": \"LISA\",\n",
    "                            \"custom_psd\": None,\n",
    "                            \"t_obs\": 4 * u.yr,\n",
    "                            \"L\": 2.5e9 * u.m,\n",
    "                            \"approximate_R\": False,\n",
    "                            \"confusion_noise\": 'robson19'\n",
    "                        })"
   ]
  },
  {
   "cell_type": "markdown",
   "id": "91d13fcb",
   "metadata": {},
   "source": [
    "## Strain functions\n",
    "\n",
    "The source class provides a convenient wrapper around the functions from the strain module and allows you to compute either the strain or characteristic strain for any number of harmonics and any subset of the sources. Here, we calculate the strain for a number of harmonics on the same source class instance from above.\n",
    "\n"
   ]
  },
  {
   "cell_type": "code",
   "execution_count": 11,
   "id": "182ff418",
   "metadata": {},
   "outputs": [
    {
     "name": "stdout",
     "output_type": "stream",
     "text": [
      "[[1.16948650e-17 5.25842334e-18 1.57682968e-17 2.28738654e-17]\n",
      " [2.69316373e-18 1.21619372e-16 1.34623862e-17 1.10964600e-18]\n",
      " [1.19056818e-17 1.64377227e-16 5.78957754e-17 1.51271515e-17]\n",
      " ...\n",
      " [2.82379687e-19 2.78947324e-17 1.41489498e-18 5.34574202e-20]\n",
      " [1.52022088e-17 3.13765374e-17 4.55143934e-17 4.46870676e-17]\n",
      " [1.36344389e-17 2.63946400e-16 6.72769324e-17 1.27466337e-17]]\n"
     ]
    }
   ],
   "source": [
    "# compute h_c_n for every source for the first four harmonics\n",
    "h_c_n4 = sources.get_h_c_n(harmonics=[1, 2, 3, 4])\n",
    "print(h_c_n4)"
   ]
  }
 ],
 "metadata": {
  "kernelspec": {
   "display_name": "Python 3",
   "language": "python",
   "name": "python3"
  },
  "language_info": {
   "codemirror_mode": {
    "name": "ipython",
    "version": 3
   },
   "file_extension": ".py",
   "mimetype": "text/x-python",
   "name": "python",
   "nbconvert_exporter": "python",
   "pygments_lexer": "ipython3",
   "version": "3.9.5"
  }
 },
 "nbformat": 4,
 "nbformat_minor": 5
}
